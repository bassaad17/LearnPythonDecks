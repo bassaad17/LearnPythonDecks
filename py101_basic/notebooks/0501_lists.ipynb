{
 "cells": [
  {
   "cell_type": "markdown",
   "metadata": {},
   "source": [
    "#### List"
   ]
  },
  {
   "cell_type": "markdown",
   "metadata": {},
   "source": [
    "Typically lists are defined using plural words, e.g. students, posts, odd_numbers, etc."
   ]
  },
  {
   "cell_type": "code",
   "execution_count": 27,
   "metadata": {},
   "outputs": [
    {
     "name": "stdout",
     "output_type": "stream",
     "text": [
      "5\n"
     ]
    }
   ],
   "source": [
    "planets = [] # this creates a variable with an empty list\n",
    "planets = [\"Mercury\", \"Venus\", \"Earth\", \"Mars\", \"Jupiter\"] # each bucket in the list contains a string data type\n",
    "print(len(planets)) # returns the 'length' or number of items contained in the planets list"
   ]
  },
  {
   "cell_type": "markdown",
   "metadata": {},
   "source": [
    "Since forward index of a list starts with zero, make sure to avoid \"off-by-one\" errors"
   ]
  },
  {
   "cell_type": "code",
   "execution_count": 28,
   "metadata": {},
   "outputs": [
    {
     "name": "stdout",
     "output_type": "stream",
     "text": [
      "Mercury\n",
      "Jupiter\n",
      "Venus\n",
      "Mars\n",
      "Earth\n"
     ]
    }
   ],
   "source": [
    "# accessing a single item in list\n",
    "print(planets[0]) # first item - count starts from 0 moving forward\n",
    "print(planets[-1]) # last item - count starts from -1 moving backwards\n",
    "print(planets[1]) # second item\n",
    "print(planets[-2]) # second to last item\n",
    "print(planets[2]) # third item"
   ]
  },
  {
   "cell_type": "code",
   "execution_count": 9,
   "metadata": {},
   "outputs": [
    {
     "name": "stdout",
     "output_type": "stream",
     "text": [
      "Jupiter\n",
      "Mercury\n"
     ]
    }
   ],
   "source": [
    "print(planets[4]) # last item counting forward\n",
    "print(planets[-5]) # first item counting backward"
   ]
  },
  {
   "cell_type": "markdown",
   "metadata": {},
   "source": [
    "#### List Slicing"
   ]
  },
  {
   "cell_type": "markdown",
   "metadata": {},
   "source": [
    "Convention of index slicing for lists is **[inclusive:exclusive]**"
   ]
  },
  {
   "cell_type": "code",
   "execution_count": 21,
   "metadata": {},
   "outputs": [
    {
     "name": "stdout",
     "output_type": "stream",
     "text": [
      "['Mercury', 'Venus', 'Earth']\n",
      "['Mars', 'Jupiter']\n"
     ]
    }
   ],
   "source": [
    "print(planets[:3]) # print first 3 items (contained in index 0, 1, 2)\n",
    "print(planets[3:]) # print item in index 3 to end of list"
   ]
  },
  {
   "cell_type": "code",
   "execution_count": 22,
   "metadata": {},
   "outputs": [
    {
     "name": "stdout",
     "output_type": "stream",
     "text": [
      "['Venus', 'Earth', 'Mars']\n"
     ]
    }
   ],
   "source": [
    "print(planets[1:4]) # print item inclusive of index 1 up to index 4 exclusive (i.e. index 1, 2, 3)"
   ]
  },
  {
   "cell_type": "code",
   "execution_count": 26,
   "metadata": {},
   "outputs": [
    {
     "name": "stdout",
     "output_type": "stream",
     "text": [
      "['Earth', 'Mars']\n"
     ]
    }
   ],
   "source": [
    "print(planets[-3:-1]) # is this making your brain hurt? remember inclusive-exclusive still applies"
   ]
  }
 ],
 "metadata": {
  "interpreter": {
   "hash": "cef9e06bb236b2a8629b07e87a04b187b952a0f661eff5533360a155783f0c33"
  },
  "kernelspec": {
   "display_name": "Python 3.9.7 ('base')",
   "language": "python",
   "name": "python3"
  },
  "language_info": {
   "codemirror_mode": {
    "name": "ipython",
    "version": 3
   },
   "file_extension": ".py",
   "mimetype": "text/x-python",
   "name": "python",
   "nbconvert_exporter": "python",
   "pygments_lexer": "ipython3",
   "version": "3.9.7"
  },
  "orig_nbformat": 4
 },
 "nbformat": 4,
 "nbformat_minor": 2
}
