{
 "cells": [
  {
   "cell_type": "code",
   "execution_count": null,
   "metadata": {},
   "outputs": [],
   "source": [
    "# Identation typically is denoted by 4 spaces\n",
    "num = 18\n",
    "if num > 17:\n",
    "    print(\"The number is greater than 17!\")\n",
    "    print(\"Indentation keeps code clean to read.\")\n",
    "else:\n",
    "    print(\"The number is equal to 17 or smaller!\")"
   ]
  },
  {
   "cell_type": "code",
   "execution_count": null,
   "metadata": {},
   "outputs": [],
   "source": [
    "# Multi-line statements\n",
    "a = 10\n",
    "b = 11\n",
    "c = 12\n",
    "sum_one = a + b + c # simple code here fits in one line\n",
    "print(sum_one)\n",
    "\n",
    "# when long code doesn't fit into one line, use \\ as continuation\n",
    "sum_two = a + \\\n",
    "          b + \\\n",
    "          c\n",
    "print(sum_two)   "
   ]
  },
  {
   "cell_type": "code",
   "execution_count": null,
   "metadata": {},
   "outputs": [],
   "source": [
    "# Identifiers\n",
    "num_1 = 1 # variable can start with letter A-Z or a-z, contain _, and numbers\n",
    "_num2 = 2 # variable can start with underscore\n",
    "3_num = 3 # variable cannot start with numbers or special characters (e.g. !@#$%^&*)\n",
    "num_a = 4 # variables are case sensitive (e.g. Orange and orange are different)\n",
    "num_A = 5\n",
    "\n",
    "class Person():\n",
    "    ...\n",
    "\n",
    "Person()  # by convention classes always start with Uppercase\n"
   ]
  },
  {
   "cell_type": "code",
   "execution_count": null,
   "metadata": {},
   "outputs": [],
   "source": [
    "# Python has 33 Reserved Words that provide predefined functionalities - must avoid using below as identifiers!\n",
    "'''\n",
    "and             except          lambda          with\n",
    "as              finally         nonlocal        while\n",
    "assert          False           None            yield\n",
    "break           for             not\n",
    "class           from            or\n",
    "continue        global          pass\n",
    "def             if              raise\n",
    "del             import          return\n",
    "elif            in              True\n",
    "else            is              try\n",
    "'''"
   ]
  }
 ],
 "metadata": {
  "interpreter": {
   "hash": "11c5b688adc692fc79b415da9d8d1b887c79038a4ed7b8c151301aaee0644660"
  },
  "kernelspec": {
   "display_name": "Python 3.9.7 ('base')",
   "language": "python",
   "name": "python3"
  },
  "language_info": {
   "codemirror_mode": {
    "name": "ipython",
    "version": 3
   },
   "file_extension": ".py",
   "mimetype": "text/x-python",
   "name": "python",
   "nbconvert_exporter": "python",
   "pygments_lexer": "ipython3",
   "version": "3.9.7"
  },
  "orig_nbformat": 4
 },
 "nbformat": 4,
 "nbformat_minor": 2
}
