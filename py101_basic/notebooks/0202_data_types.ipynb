{
 "cells": [
  {
   "cell_type": "code",
   "execution_count": 1,
   "metadata": {},
   "outputs": [],
   "source": [
    "# Text Type - Strings\n",
    "\n",
    "a = 'This is my 1st string between single quotes' # any keyboard character set between quotes, string"
   ]
  },
  {
   "cell_type": "code",
   "execution_count": 2,
   "metadata": {},
   "outputs": [],
   "source": [
    "# Numeric Types - Integer, Float, Complex\n",
    "\n",
    "b = 7 # integer, whole number\n",
    "c = 3.141592 # float, decimal number\n",
    "d = 3 + 1j # complex number as in a + bi, where i = j = sqrt(-1)"
   ]
  },
  {
   "cell_type": "code",
   "execution_count": 3,
   "metadata": {},
   "outputs": [],
   "source": [
    "# Sequence Types - List, Tuple, Range\n",
    "\n",
    "e = ['coffee', 'espresso', 'tea'] # this is a list, note the square brackets []\n",
    "f = ('coffee', 'espresso', 'tea') # this is a tuple, note the parenthesis ()\n",
    "g = range(7) # this is a range of whole numbers from 0, 1, 2 ... 6"
   ]
  },
  {
   "cell_type": "code",
   "execution_count": 4,
   "metadata": {},
   "outputs": [],
   "source": [
    "# Mapping Type - Dictionary\n",
    "\n",
    "h = {'name': 'Johnny', 'location': 'Washington DC', 'age': 23} # this is a dict with keys & values\n",
    "# note the curly brackets with {'key':'value'} pairs"
   ]
  },
  {
   "cell_type": "code",
   "execution_count": 5,
   "metadata": {},
   "outputs": [],
   "source": [
    "# Set Types - Set, Frozen Set\n",
    "\n",
    "i = {'chair', 'table', 'cup'} # this is a set, note the curly brackets {}\n",
    "j = frozenset({'chair', 'table', 'cup'})\n"
   ]
  },
  {
   "cell_type": "code",
   "execution_count": 6,
   "metadata": {},
   "outputs": [],
   "source": [
    "# Boolean Type - Bool\n",
    "\n",
    "k = True # note the capital T in True, can be used as equivalency to 1\n",
    "l = False # note the capital F in False, can be used as equivalency to 0"
   ]
  },
  {
   "cell_type": "code",
   "execution_count": 7,
   "metadata": {},
   "outputs": [],
   "source": [
    "# Binary Types - Bytes, Bytearray, Memoryview\n",
    "\n",
    "m = b'Ciao' # bytes\n",
    "n = bytearray(3)\n",
    "o = memoryview(bytes(4))"
   ]
  }
 ],
 "metadata": {
  "interpreter": {
   "hash": "11c5b688adc692fc79b415da9d8d1b887c79038a4ed7b8c151301aaee0644660"
  },
  "kernelspec": {
   "display_name": "Python 3.9.7 ('base')",
   "language": "python",
   "name": "python3"
  },
  "language_info": {
   "codemirror_mode": {
    "name": "ipython",
    "version": 3
   },
   "file_extension": ".py",
   "mimetype": "text/x-python",
   "name": "python",
   "nbconvert_exporter": "python",
   "pygments_lexer": "ipython3",
   "version": "3.9.7"
  },
  "orig_nbformat": 4
 },
 "nbformat": 4,
 "nbformat_minor": 2
}
