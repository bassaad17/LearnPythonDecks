{
 "cells": [
  {
   "cell_type": "markdown",
   "metadata": {},
   "source": [
    "#### Creating a Comment"
   ]
  },
  {
   "cell_type": "code",
   "execution_count": 1,
   "metadata": {},
   "outputs": [
    {
     "name": "stdout",
     "output_type": "stream",
     "text": [
      "hello friend\n"
     ]
    }
   ],
   "source": [
    "print('hello friend') # anything after hashtag is a comment and is NOT executed\n",
    "# use comments to explain your code as necessary\n",
    "# print('hello amiga') # don't execute this print statement"
   ]
  },
  {
   "cell_type": "markdown",
   "metadata": {},
   "source": [
    "#### Multi Line Comments"
   ]
  },
  {
   "cell_type": "code",
   "execution_count": 2,
   "metadata": {},
   "outputs": [
    {
     "name": "stdout",
     "output_type": "stream",
     "text": [
      "hello friend\n"
     ]
    }
   ],
   "source": [
    "# This is comment line one\n",
    "# that extends to this second line\n",
    "# and yes, one more line\n",
    "print('hello friend')"
   ]
  },
  {
   "cell_type": "markdown",
   "metadata": {},
   "source": [
    "#### Multi Line Comments w/ String Literals (Uses Triple Single or Double Quotes)"
   ]
  },
  {
   "cell_type": "code",
   "execution_count": 3,
   "metadata": {},
   "outputs": [
    {
     "name": "stdout",
     "output_type": "stream",
     "text": [
      "hello friend\n"
     ]
    }
   ],
   "source": [
    "'''\n",
    "This is a comment using single triple quotes\n",
    "And I can have as many lines as I want\n",
    "To make my code more readable for myself\n",
    "And for others that may work with my code in the future\n",
    "'''\n",
    "print('hello friend')"
   ]
  }
 ],
 "metadata": {
  "interpreter": {
   "hash": "ee5ab35898cb2d98813963c9ade5bb1c901349fd264970989faffa685bcdb28a"
  },
  "kernelspec": {
   "display_name": "Python 3.10.2 64-bit",
   "language": "python",
   "name": "python3"
  },
  "language_info": {
   "codemirror_mode": {
    "name": "ipython",
    "version": 3
   },
   "file_extension": ".py",
   "mimetype": "text/x-python",
   "name": "python",
   "nbconvert_exporter": "python",
   "pygments_lexer": "ipython3",
   "version": "3.9.7"
  },
  "orig_nbformat": 4
 },
 "nbformat": 4,
 "nbformat_minor": 2
}
