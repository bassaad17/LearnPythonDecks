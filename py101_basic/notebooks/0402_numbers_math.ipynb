{
 "cells": [
  {
   "cell_type": "markdown",
   "metadata": {},
   "source": [
    "#### Python Mathematics"
   ]
  },
  {
   "cell_type": "code",
   "execution_count": 1,
   "metadata": {},
   "outputs": [],
   "source": [
    "# Use of arithmetic operators with numeric data types to perform classical math computations\n",
    "\n",
    "# Python follows the PEMDAS arithmetic rule\n",
    "# P: parenthesis ()\n",
    "# E: exponentiation **\n",
    "# M: multiplication *\n",
    "# D: division /\n",
    "# A: addition +\n",
    "# S: subtraction -"
   ]
  },
  {
   "cell_type": "markdown",
   "metadata": {},
   "source": [
    "|Operator Symbol|Name|\n",
    "|---------------|----|\n",
    "|+|Addition|\n",
    "|-|Subtraction|\n",
    "|*|Multiplication|\n",
    "|/|Division|\n",
    "|**|Exponentiation|\n",
    "|%|Modulus|\n",
    "|//|Floor division|"
   ]
  },
  {
   "cell_type": "code",
   "execution_count": 2,
   "metadata": {},
   "outputs": [],
   "source": [
    "a = 17\n",
    "b = 3"
   ]
  },
  {
   "cell_type": "code",
   "execution_count": 3,
   "metadata": {},
   "outputs": [
    {
     "name": "stdout",
     "output_type": "stream",
     "text": [
      "20\n",
      "14\n",
      "51\n",
      "5.666666666666667\n",
      "4913\n",
      "2\n",
      "5\n"
     ]
    }
   ],
   "source": [
    "print(a + b)  # addition of a and b\n",
    "print(a - b)  # substraction of a and b\n",
    "print(a * b)  # multiplication of a and b\n",
    "print(a / b)  # division of a and b, if results is decimal it returns float\n",
    "print(a ** b) # raise a to the power of b\n",
    "print(a % b)  # computes the remainder of the division of a and b\n",
    "print(a // b) # computes the whole number part of the division of a and b"
   ]
  },
  {
   "cell_type": "code",
   "execution_count": 4,
   "metadata": {},
   "outputs": [
    {
     "name": "stdout",
     "output_type": "stream",
     "text": [
      "7947.0\n"
     ]
    }
   ],
   "source": [
    "print((a+b)**b - (a*b + 3) + b/b) # python and PEMDAS"
   ]
  }
 ],
 "metadata": {
  "interpreter": {
   "hash": "cef9e06bb236b2a8629b07e87a04b187b952a0f661eff5533360a155783f0c33"
  },
  "kernelspec": {
   "display_name": "Python 3.9.7 ('base')",
   "language": "python",
   "name": "python3"
  },
  "language_info": {
   "codemirror_mode": {
    "name": "ipython",
    "version": 3
   },
   "file_extension": ".py",
   "mimetype": "text/x-python",
   "name": "python",
   "nbconvert_exporter": "python",
   "pygments_lexer": "ipython3",
   "version": "3.9.7"
  },
  "orig_nbformat": 4
 },
 "nbformat": 4,
 "nbformat_minor": 2
}
