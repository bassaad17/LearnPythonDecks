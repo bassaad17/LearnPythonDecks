{
 "cells": [
  {
   "cell_type": "code",
   "execution_count": 1,
   "metadata": {},
   "outputs": [
    {
     "name": "stdout",
     "output_type": "stream",
     "text": [
      "This is a string in double quotes.\n",
      "This is a string in single quotes.\n"
     ]
    }
   ],
   "source": [
    "print(\"This is a string in double quotes.\")\n",
    "print('This is a string in single quotes.')"
   ]
  },
  {
   "cell_type": "code",
   "execution_count": 2,
   "metadata": {},
   "outputs": [
    {
     "name": "stdout",
     "output_type": "stream",
     "text": [
      "Python gives us the flexibility of using 'single' quotes inside double ones, or vice versa.\n",
      "Pick a type of quotes that suits you for strings and stick to it!\n"
     ]
    }
   ],
   "source": [
    "print(\"Python gives us the flexibility of using 'single' quotes inside double ones, or vice versa.\")\n",
    "print(\"Pick a type of quotes that suits you for strings and stick to it!\")"
   ]
  },
  {
   "cell_type": "code",
   "execution_count": 3,
   "metadata": {},
   "outputs": [
    {
     "name": "stdout",
     "output_type": "stream",
     "text": [
      "Have a great day \t Mr. Smith.\n",
      "Have a nice day: \n",
      "Ms. Smith.\n"
     ]
    }
   ],
   "source": [
    "tab_string = \"\\t\" # special tab\n",
    "new_line_string = \"\\n\" # special new line\n",
    "print(\"Have a great day \\t Mr. Smith.\")  # insert tab space mid sentence\n",
    "print(\"Have a nice day: \\nMs. Smith.\")   # start new line mid sentence"
   ]
  },
  {
   "cell_type": "code",
   "execution_count": 4,
   "metadata": {},
   "outputs": [
    {
     "name": "stdout",
     "output_type": "stream",
     "text": [
      "Have a great day \\t Mr. Smith.\n",
      "Have a nice day \\n Ms. Smith.\n"
     ]
    }
   ],
   "source": [
    "# Use raw strings using r\"\" to preserve all characters\n",
    "print(r\"Have a great day \\t Mr. Smith.\")\n",
    "print(r\"Have a nice day \\n Ms. Smith.\")"
   ]
  },
  {
   "cell_type": "code",
   "execution_count": 5,
   "metadata": {},
   "outputs": [
    {
     "name": "stdout",
     "output_type": "stream",
     "text": [
      "Good morning Mr. Bond,\n",
      "Good afternoon Mr. Bond,\n",
      "and Good evening Mr. Bond.\n"
     ]
    }
   ],
   "source": [
    "multi_line_string = \"\"\"Good morning Mr. Bond,\n",
    "Good afternoon Mr. Bond,\n",
    "and Good evening Mr. Bond.\"\"\"\n",
    "print(multi_line_string)"
   ]
  },
  {
   "cell_type": "code",
   "execution_count": 6,
   "metadata": {},
   "outputs": [
    {
     "name": "stdout",
     "output_type": "stream",
     "text": [
      "Doctor John Amore has 17 years of experience and is an expert Cardiologist based out of Richmond, VA.\n"
     ]
    }
   ],
   "source": [
    "# Use f-strings f\"\" to substitute values into strings. Implemented in Python v3.6 or newer.\n",
    "profession = \"doctor\"\n",
    "name = \"john amore\"\n",
    "experience_yrs = \"17\" # this is a string, not an integer!\n",
    "practice = \"cardiologist\"\n",
    "print(f\"{profession.title()} {name.title()} has {experience_yrs} years of experience and is an expert {practice.title()} based out of Richmond, VA.\")"
   ]
  }
 ],
 "metadata": {
  "interpreter": {
   "hash": "11c5b688adc692fc79b415da9d8d1b887c79038a4ed7b8c151301aaee0644660"
  },
  "kernelspec": {
   "display_name": "Python 3.9.7 ('base')",
   "language": "python",
   "name": "python3"
  },
  "language_info": {
   "codemirror_mode": {
    "name": "ipython",
    "version": 3
   },
   "file_extension": ".py",
   "mimetype": "text/x-python",
   "name": "python",
   "nbconvert_exporter": "python",
   "pygments_lexer": "ipython3",
   "version": "3.9.7"
  },
  "orig_nbformat": 4
 },
 "nbformat": 4,
 "nbformat_minor": 2
}
