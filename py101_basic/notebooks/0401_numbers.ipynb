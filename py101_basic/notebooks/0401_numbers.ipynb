{
 "cells": [
  {
   "cell_type": "markdown",
   "metadata": {},
   "source": [
    "#### Integers"
   ]
  },
  {
   "cell_type": "code",
   "execution_count": 1,
   "metadata": {},
   "outputs": [
    {
     "name": "stdout",
     "output_type": "stream",
     "text": [
      "<class 'int'>\n",
      "<class 'int'>\n",
      "<class 'int'>\n"
     ]
    }
   ],
   "source": [
    "# These are known as whole numbers\n",
    "# They can be either positive or negative\n",
    "a = 1\n",
    "b = 2325\n",
    "c = 3_547_918 # you can use underscore between numbers to separate hundreds, thousands, etc.\n",
    "d = -1\n",
    "e = -2527\n",
    "\n",
    "print(type(a)) # print and return the type that variable 'a' is automatically recognized as in python \n",
    "print(type(c))\n",
    "print(type(e))\n"
   ]
  },
  {
   "cell_type": "markdown",
   "metadata": {},
   "source": [
    "#### Floats"
   ]
  },
  {
   "cell_type": "code",
   "execution_count": 2,
   "metadata": {},
   "outputs": [
    {
     "name": "stdout",
     "output_type": "stream",
     "text": [
      "<class 'float'>\n",
      "<class 'float'>\n",
      "13000.0\n",
      "<class 'float'>\n",
      "170.0\n"
     ]
    }
   ],
   "source": [
    "# These are known as decimal numbers, or floating point numbers (can be +ve or -ve)\n",
    "a = 1.0\n",
    "b = 2.325\n",
    "c = -2.173\n",
    "d = 1.3e4 # scientific numbers are denoted with either 'e' or 'E' indicating power of 10\n",
    "f = 1.7E2\n",
    "\n",
    "print(type(a))\n",
    "print(type(c))\n",
    "print(d) # print out the scientific number\n",
    "print(type(d))\n",
    "print(f)"
   ]
  },
  {
   "cell_type": "markdown",
   "metadata": {},
   "source": [
    "#### Complex"
   ]
  },
  {
   "cell_type": "code",
   "execution_count": 3,
   "metadata": {},
   "outputs": [
    {
     "name": "stdout",
     "output_type": "stream",
     "text": [
      "<class 'complex'>\n",
      "<class 'complex'>\n",
      "<class 'complex'>\n"
     ]
    }
   ],
   "source": [
    "# These are known as complex numbers with a real and imaginary part, where imaginary is denoted with 'j'\n",
    "# They can be either positive or negative\n",
    "a = 7 + 5j\n",
    "b = 3 - 3j\n",
    "c = -7j\n",
    "\n",
    "print(type(a))\n",
    "print(type(b))\n",
    "print(type(c))"
   ]
  }
 ],
 "metadata": {
  "interpreter": {
   "hash": "cef9e06bb236b2a8629b07e87a04b187b952a0f661eff5533360a155783f0c33"
  },
  "kernelspec": {
   "display_name": "Python 3.9.7 ('base')",
   "language": "python",
   "name": "python3"
  },
  "language_info": {
   "codemirror_mode": {
    "name": "ipython",
    "version": 3
   },
   "file_extension": ".py",
   "mimetype": "text/x-python",
   "name": "python",
   "nbconvert_exporter": "python",
   "pygments_lexer": "ipython3",
   "version": "3.9.7"
  },
  "orig_nbformat": 4
 },
 "nbformat": 4,
 "nbformat_minor": 2
}
